{
 "cells": [
  {
   "cell_type": "code",
   "execution_count": 1,
   "metadata": {},
   "outputs": [
    {
     "name": "stderr",
     "output_type": "stream",
     "text": [
      "c:\\Users\\Aravind\\AppData\\Local\\Programs\\Python\\Python311\\Lib\\site-packages\\tqdm\\auto.py:21: TqdmWarning: IProgress not found. Please update jupyter and ipywidgets. See https://ipywidgets.readthedocs.io/en/stable/user_install.html\n",
      "  from .autonotebook import tqdm as notebook_tqdm\n"
     ]
    }
   ],
   "source": [
    "from transformers import pipeline"
   ]
  },
  {
   "cell_type": "code",
   "execution_count": 2,
   "metadata": {},
   "outputs": [
    {
     "name": "stderr",
     "output_type": "stream",
     "text": [
      "No model was supplied, defaulted to sshleifer/distilbart-cnn-12-6 and revision a4f8f3e (https://huggingface.co/sshleifer/distilbart-cnn-12-6).\n",
      "Using a pipeline without specifying a model name and revision in production is not recommended.\n",
      "Downloading (…)lve/main/config.json: 100%|██████████| 1.80k/1.80k [00:00<00:00, 1.96MB/s]\n",
      "c:\\Users\\Aravind\\AppData\\Local\\Programs\\Python\\Python311\\Lib\\site-packages\\huggingface_hub\\file_download.py:137: UserWarning: `huggingface_hub` cache-system uses symlinks by default to efficiently store duplicated files but your machine does not support them in C:\\Users\\Aravind\\.cache\\huggingface\\hub. Caching files will still work but in a degraded version that might require more space on your disk. This warning can be disabled by setting the `HF_HUB_DISABLE_SYMLINKS_WARNING` environment variable. For more details, see https://huggingface.co/docs/huggingface_hub/how-to-cache#limitations.\n",
      "To support symlinks on Windows, you either need to activate Developer Mode or to run Python as an administrator. In order to see activate developer mode, see this article: https://docs.microsoft.com/en-us/windows/apps/get-started/enable-your-device-for-development\n",
      "  warnings.warn(message)\n",
      "Downloading pytorch_model.bin: 100%|██████████| 1.22G/1.22G [02:43<00:00, 7.48MB/s]\n",
      "Downloading (…)okenizer_config.json: 100%|██████████| 26.0/26.0 [00:00<?, ?B/s]\n",
      "Downloading (…)olve/main/vocab.json: 100%|██████████| 899k/899k [00:00<00:00, 1.13MB/s]\n",
      "Downloading (…)olve/main/merges.txt: 100%|██████████| 456k/456k [00:00<00:00, 2.03MB/s]\n"
     ]
    }
   ],
   "source": [
    "summarizer = pipeline(\"summarization\")"
   ]
  },
  {
   "cell_type": "code",
   "execution_count": 3,
   "metadata": {},
   "outputs": [],
   "source": [
    "article = '''\n",
    "\"In the ever-evolving landscape of technology and innovation, the 21st century has witnessed a remarkable transformation in the way we live, work, and connect with the world. The rapid advancement of digital technology, coupled with the growing influence of artificial intelligence and machine learning, has ushered in an era of unprecedented change.\n",
    "\n",
    "One of the most profound shifts has occurred in the realm of communication. The advent of the internet and social media platforms has revolutionized the way we communicate, breaking down geographical barriers and connecting people from all corners of the globe. This interconnectedness has not only reshaped our personal relationships but has also had a profound impact on businesses and governments, fundamentally altering the way they operate and interact with their constituents.\n",
    "\n",
    "Moreover, the proliferation of smartphones has put a powerful computing device in the hands of billions, democratizing access to information and services. Mobile apps have become an integral part of our daily lives, offering convenience and efficiency in areas as diverse as healthcare, finance, transportation, and entertainment.\n",
    "\n",
    "The rise of artificial intelligence (AI) has been another defining feature of this century. Machine learning algorithms are powering everything from autonomous vehicles to personalized recommendations on streaming platforms. AI is transforming industries like healthcare by enabling more accurate diagnostics and treatment recommendations, and it's reshaping the job market by automating routine tasks, leading to discussions about the future of work and the need for upskilling.\n",
    "\n",
    "Simultaneously, the ethical and societal implications of AI have come to the forefront. Concerns about data privacy, bias in algorithms, and the potential for AI to reinforce existing inequalities have sparked important conversations and calls for responsible AI development.\n",
    "\n",
    "In the realm of healthcare, the COVID-19 pandemic accelerated the adoption of telemedicine and highlighted the importance of digital health solutions. Remote consultations, wearable health devices, and data-driven insights have become critical tools in the fight against infectious diseases and in managing chronic conditions.\n",
    "\n",
    "Environmental concerns have also taken center stage as the world grapples with the consequences of climate change. Sustainable technologies and renewable energy sources are gaining traction as we strive to reduce our carbon footprint and transition to a greener future.\n",
    "\n",
    "In the business world, e-commerce has experienced exponential growth, and the concept of the traditional office is being redefined as remote work becomes more prevalent. Companies are reimagining their strategies to adapt to the changing landscape, focusing on flexibility, digital transformation, and employee well-being.\n",
    "\n",
    "In conclusion, the 21st century is marked by a whirlwind of technological advancements that have reshaped every aspect of our lives. From the way we communicate and access information to the profound influence of artificial intelligence, these changes present both incredible opportunities and formidable challenges. As we move forward, it is crucial to harness the power of technology responsibly, address its ethical implications, and work towards a future that benefits all of humanity.\"\n",
    "\n",
    "Feel free to use this text as a starting point for your summary, and let me know if you need any further assistance!\n",
    "'''"
   ]
  },
  {
   "cell_type": "code",
   "execution_count": 5,
   "metadata": {},
   "outputs": [
    {
     "data": {
      "text/plain": [
       "[{'summary_text': ' The rapid advancement of digital technology, coupled with the influence of artificial intelligence and machine learning, has ushered in an era of unprecedented change . The advent of the internet and social media platforms has revolutionized the way we communicate, breaking down geographical barriers and connecting people from all corners of the globe .'}]"
      ]
     },
     "execution_count": 5,
     "metadata": {},
     "output_type": "execute_result"
    }
   ],
   "source": [
    "summarizer(article, max_length=130, min_length=30, do_sample=False)"
   ]
  },
  {
   "cell_type": "code",
   "execution_count": 6,
   "metadata": {},
   "outputs": [
    {
     "data": {
      "text/plain": [
       "['model.pkl']"
      ]
     },
     "execution_count": 6,
     "metadata": {},
     "output_type": "execute_result"
    }
   ],
   "source": [
    "import joblib\n",
    "\n",
    "joblib.dump(summarizer , \"model.pkl\")"
   ]
  }
 ],
 "metadata": {
  "kernelspec": {
   "display_name": "Python 3",
   "language": "python",
   "name": "python3"
  },
  "language_info": {
   "codemirror_mode": {
    "name": "ipython",
    "version": 3
   },
   "file_extension": ".py",
   "mimetype": "text/x-python",
   "name": "python",
   "nbconvert_exporter": "python",
   "pygments_lexer": "ipython3",
   "version": "3.11.5"
  },
  "orig_nbformat": 4
 },
 "nbformat": 4,
 "nbformat_minor": 2
}
